{
 "cells": [
  {
   "cell_type": "code",
   "execution_count": 1,
   "metadata": {},
   "outputs": [],
   "source": [
    "import sys\n",
    "import os\n",
    "from datetime import datetime\n",
    "\n",
    "import torch\n",
    "import torch.nn as nn\n",
    "import torch.nn.functional as F\n",
    "from torch_geometric.nn import GCNConv, LayerNorm, global_mean_pool\n",
    "from torch_geometric.data import DataLoader\n",
    "from tqdm import tqdm\n",
    "\n",
    "import matplotlib.pyplot as plt\n",
    "\n",
    "from dataset import SparseMatrixDataset"
   ]
  },
  {
   "cell_type": "code",
   "execution_count": 2,
   "metadata": {},
   "outputs": [],
   "source": [
    "class GCN_NET(nn.Module):\n",
    "    def __init__(self, features, classes):\n",
    "        super(GCN_NET, self).__init__()\n",
    "        self.n1conv1 = GCNConv(features, 256)\n",
    "        self.n1ln1 = LayerNorm(256)\n",
    "        self.n1drop1 = nn.Dropout(0.1)\n",
    "        self.n1conv2 = GCNConv(256, 256)\n",
    "        self.n1ln2 = LayerNorm(256)\n",
    "        self.n1drop2 = nn.Dropout(0.1)\n",
    "\n",
    "        self.n2conv1 = GCNConv(features, 256)\n",
    "        self.n2ln1 = LayerNorm(256)\n",
    "        self.n2drop1 = nn.Dropout(0.1)\n",
    "        self.n2conv2 = GCNConv(256, 256)\n",
    "        self.n2ln2 = LayerNorm(256)\n",
    "        self.n2drop2 = nn.Dropout(0.1)\n",
    "\n",
    "        self.linear1 = nn.Linear(512, 128)\n",
    "        self.linear2 = nn.Linear(128, classes) # class should be one for regression\n",
    "\n",
    "\n",
    "    def forward(self, data):\n",
    "        # network 1\n",
    "        n1 = data[\"m1\"]\n",
    "        n1_x, n1_edge_index = n1.x, n1.edge_index\n",
    "\n",
    "        n1_x = self.n1conv1(n1_x, n1_edge_index)\n",
    "        n1_x = self.n1ln1(n1_x)\n",
    "        n1_x = F.relu(n1_x)\n",
    "        n1_x = self.n1drop1(n1_x)\n",
    "\n",
    "        n1_x = self.n1conv2(n1_x, n1_edge_index)\n",
    "        n1_x = self.n1ln2(n1_x)\n",
    "        n1_x = F.relu(n1_x)\n",
    "        n1_x = self.n1drop2(n1_x)\n",
    "\n",
    "        n1_x = global_mean_pool(n1_x, n1.batch)\n",
    "\n",
    "        # network 2\n",
    "        n2 = data[\"m2\"]\n",
    "        n2_x, n2_edge_index = n2.x, n2.edge_index\n",
    "\n",
    "        n2_x = self.n2conv1(n2_x, n2_edge_index)\n",
    "        n2_x = self.n2ln1(n2_x)\n",
    "        n2_x = F.relu(n2_x)\n",
    "        n2_x = self.n2drop1(n2_x)\n",
    "\n",
    "        n2_x = self.n2conv2(n2_x, n2_edge_index)\n",
    "        n2_x = self.n2ln2(n2_x)\n",
    "        n2_x = F.relu(n2_x)\n",
    "        n2_x = self.n2drop2(n2_x)\n",
    "\n",
    "        n2_x = global_mean_pool(n2_x, n2.batch)\n",
    "\n",
    "        # merge networks\n",
    "        x = torch.cat([n1_x, n2_x], dim=1)\n",
    "        x = self.linear1(x)\n",
    "        x = F.relu(x)\n",
    "        x = self.linear2(x)\n",
    "        return x"
   ]
  },
  {
   "cell_type": "code",
   "execution_count": 14,
   "metadata": {},
   "outputs": [
    {
     "name": "stdout",
     "output_type": "stream",
     "text": [
      "Read matrix results from ../dataset/csv/test.csv\n",
      "Dataset info: Features=16, Classes=1\n"
     ]
    },
    {
     "name": "stderr",
     "output_type": "stream",
     "text": [
      "/home/huanzhi/miniconda3/envs/sparse_format_learning/lib/python3.11/site-packages/torch_geometric/deprecation.py:22: UserWarning: 'data.DataLoader' is deprecated, use 'loader.DataLoader' instead\n",
      "  warnings.warn(out)\n"
     ]
    }
   ],
   "source": [
    "dataset = SparseMatrixDataset(root=\"../dataset\", name=\"test\")\n",
    "\n",
    "device = torch.device('cuda' if torch.cuda.is_available() else 'cpu')\n",
    "print(f\"Dataset info: Features={dataset.num_node_features}, Classes={dataset.num_classes}\")\n",
    "\n",
    "# Initialize model and data loaders\n",
    "model = GCN_NET(dataset.num_node_features, dataset.num_classes).to(device)\n",
    "\n",
    "# Split dataset into training, validation, and test sets\n",
    "torch.manual_seed(123456789)\n",
    "num_graphs = len(dataset)\n",
    "num_training, num_validation = int(num_graphs * 0.7), int(num_graphs * 0.15)\n",
    "num_test = num_graphs - num_training - num_validation\n",
    "training_dataset, validation_dataset, test_dataset = torch.utils.data.random_split(dataset, [num_training, num_validation, num_test])\n",
    "\n",
    "train_loader = DataLoader(training_dataset, batch_size=1, shuffle=True)\n",
    "val_loader = DataLoader(validation_dataset, batch_size=1)\n",
    "test_loader = DataLoader(test_dataset, batch_size=1)"
   ]
  },
  {
   "cell_type": "code",
   "execution_count": 15,
   "metadata": {},
   "outputs": [
    {
     "data": {
      "text/plain": [
       "<All keys matched successfully>"
      ]
     },
     "execution_count": 15,
     "metadata": {},
     "output_type": "execute_result"
    }
   ],
   "source": [
    "model.load_state_dict(torch.load(\"../models/test/2024-04-23_23-54-51_best_model.pth\"))"
   ]
  },
  {
   "cell_type": "code",
   "execution_count": 16,
   "metadata": {},
   "outputs": [],
   "source": [
    "def count(model, data_loader):\n",
    "    expected = []\n",
    "    predicted = []\n",
    "    model.eval()\n",
    "    loss = 0\n",
    "    with torch.no_grad():\n",
    "        for batch in data_loader:\n",
    "            batch[\"m1\"].to(device)\n",
    "            batch[\"m2\"].to(device)\n",
    "            out = model(batch)\n",
    "            expected.append(batch[\"m1\"].y.item())\n",
    "            predicted.append(out.item())\n",
    "    return expected, predicted\n",
    "\n",
    "train_expected, train_predicted = count(model, train_loader)\n",
    "val_expected, val_predicted = count(model, val_loader)\n",
    "test_expected, test_predicted = count(model, test_loader)"
   ]
  },
  {
   "cell_type": "code",
   "execution_count": 26,
   "metadata": {},
   "outputs": [
    {
     "data": {
      "image/png": "[encoded data removed]",
      "text/plain": [
       "<Figure size 640x480 with 1 Axes>"
      ]
     },
     "metadata": {},
     "output_type": "display_data"
    }
   ],
   "source": [
    "# Plot scatter plot\n",
    "plt.figure()\n",
    "# plt.scatter(train_expected, train_predicted, label=\"Training\", s=2)\n",
    "# plt.scatter(val_expected, val_predicted, label=\"Validation\", s=2)\n",
    "plt.scatter(test_expected, test_predicted, label=\"Test\", s=2)\n",
    "plt.xlabel(\"Expected\")\n",
    "plt.ylabel(\"Predicted\")\n",
    "plt.legend()\n",
    "plt.show()"
   ]
  },
  {
   "cell_type": "code",
   "execution_count": 24,
   "metadata": {},
   "outputs": [
    {
     "data": {
      "image/png": "[encoded data removed]",
      "text/plain": [
       "<Figure size 640x480 with 1 Axes>"
      ]
     },
     "metadata": {},
     "output_type": "display_data"
    }
   ],
   "source": [
    "# Draw histogram from the data(nnz density distirbution)\n",
    "plt.figure()\n",
    "plt.hist(train_expected, bins=100, alpha=0.5, label=\"Train\")\n",
    "plt.hist(val_expected, bins=100, alpha=0.5, label=\"Validation\")\n",
    "plt.hist(test_expected, bins=100, alpha=0.5, label=\"Test\")\n",
    "plt.legend()\n",
    "plt.show()"
   ]
  }
 ],
 "metadata": {
  "kernelspec": {
   "display_name": "sparse_format_learning",
   "language": "python",
   "name": "python3"
  },
  "language_info": {
   "codemirror_mode": {
    "name": "ipython",
    "version": 3
   },
   "file_extension": ".py",
   "mimetype": "text/x-python",
   "name": "python",
   "nbconvert_exporter": "python",
   "pygments_lexer": "ipython3",
   "version": "3.11.7"
  }
 },
 "nbformat": 4,
 "nbformat_minor": 2
}
